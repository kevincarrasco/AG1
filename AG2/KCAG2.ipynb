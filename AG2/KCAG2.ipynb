{
  "nbformat": 4,
  "nbformat_minor": 0,
  "metadata": {
    "colab": {
      "name": "Kevin_CarrascoAG2.ipynb",
      "version": "0.3.2",
      "provenance": [],
      "include_colab_link": true
    },
    "kernelspec": {
      "name": "python3",
      "display_name": "Python 3"
    }
  },
  "cells": [
    {
      "cell_type": "markdown",
      "metadata": {
        "id": "view-in-github",
        "colab_type": "text"
      },
      "source": [
        "<a href=\"https://colab.research.google.com/github/kevincarrasco/AG1/blob/master/AG2/Kevin_CarrascoAG2.ipynb\" target=\"_parent\"><img src=\"https://colab.research.google.com/assets/colab-badge.svg\" alt=\"Open In Colab\"/></a>"
      ]
    },
    {
      "metadata": {
        "id": "LpFRzVLz0Rua",
        "colab_type": "text"
      },
      "cell_type": "markdown",
      "source": [
        ""
      ]
    },
    {
      "metadata": {
        "id": "A3_0m3JOxScu",
        "colab_type": "code",
        "colab": {}
      },
      "cell_type": "code",
      "source": [
        "from time import time\n",
        "\n",
        "def calcular_tiempo(f):\n",
        "  \n",
        "  def wrapper(*args, **kwargs):\n",
        "    inicio = time()\n",
        "    resultado = f(*args, **kwargs)\n",
        "    tiempo = float(time() - inicio )\n",
        "    print(\"\\r\\n Tiempo de ejecucion para algoritmo:\" + \"{0:.25f}\".format(tiempo))\n",
        "  \n",
        "  return wrapper "
      ],
      "execution_count": 0,
      "outputs": []
    },
    {
      "metadata": {
        "id": "_DWJyg2ab-ap",
        "colab_type": "text"
      },
      "cell_type": "markdown",
      "source": [
        "Kevin Carrasco- Ag2<br>\n",
        "Actividad Guiada2<br>\n",
        "Url: https://github.com/kevincarrasco/AG2\n"
      ]
    },
    {
      "metadata": {
        "id": "SzzS-r7khP6-",
        "colab_type": "code",
        "outputId": "90d7aa41-57d0-4e92-be9c-07a3e4185ff4",
        "colab": {
          "base_uri": "https://localhost:8080/",
          "height": 54
        }
      },
      "cell_type": "code",
      "source": [
        "import random\n",
        "import math\n",
        "\n",
        "N=100\n",
        "Lista = [ (random.randrange(1,N*10),random.randrange(1,N*10))  for _ in range(N) ]\n",
        "print(Lista)"
      ],
      "execution_count": 90,
      "outputs": [
        {
          "output_type": "stream",
          "text": [
            "[(470, 251), (227, 579), (408, 477), (761, 881), (9, 275), (688, 341), (266, 851), (421, 70), (267, 88), (616, 110), (251, 42), (514, 865), (746, 941), (940, 179), (592, 457), (754, 504), (3, 57), (855, 547), (143, 71), (938, 359), (293, 535), (95, 338), (504, 769), (617, 477), (705, 814), (114, 998), (38, 301), (130, 712), (214, 7), (898, 292), (451, 620), (682, 368), (694, 705), (492, 864), (424, 752), (271, 268), (459, 234), (781, 974), (702, 31), (109, 926), (24, 2), (149, 674), (694, 589), (222, 218), (963, 787), (867, 740), (840, 895), (281, 929), (126, 926), (681, 203), (891, 807), (804, 176), (819, 866), (574, 666), (401, 801), (984, 808), (907, 512), (269, 814), (871, 122), (75, 426), (643, 173), (771, 689), (186, 905), (689, 949), (290, 851), (344, 743), (97, 651), (123, 422), (41, 77), (399, 75), (211, 233), (115, 864), (645, 677), (141, 882), (140, 296), (983, 839), (605, 814), (362, 533), (408, 824), (127, 498), (322, 718), (874, 414), (660, 422), (443, 493), (204, 802), (221, 115), (399, 237), (84, 982), (678, 930), (748, 199), (41, 830), (974, 814), (435, 930), (302, 345), (37, 917), (335, 456), (156, 481), (719, 517), (792, 311), (457, 841)]\n"
          ],
          "name": "stdout"
        }
      ]
    },
    {
      "metadata": {
        "id": "FSt8cnoucTah",
        "colab_type": "code",
        "outputId": "57a935ff-d9cb-4957-faeb-f3ca4cad332a",
        "colab": {
          "base_uri": "https://localhost:8080/",
          "height": 34
        }
      },
      "cell_type": "code",
      "source": [
        "def distancia(A,B):\n",
        "  if type(A) is int or type(A) is float:\n",
        "    return abs(B-A)\n",
        "  else:\n",
        "    return math.sqrt(sum([  (A[i]-B[i])**2 for i in range(len(A)) ]))\n",
        "\n",
        "distancia((1,3),(2,5))"
      ],
      "execution_count": 91,
      "outputs": [
        {
          "output_type": "execute_result",
          "data": {
            "text/plain": [
              "2.23606797749979"
            ]
          },
          "metadata": {
            "tags": []
          },
          "execution_count": 91
        }
      ]
    },
    {
      "metadata": {
        "id": "NeTvQODHjahk",
        "colab_type": "code",
        "outputId": "f4b467d3-8a73-4e95-bb22-9bd34a812ec5",
        "colab": {
          "base_uri": "https://localhost:8080/",
          "height": 34
        }
      },
      "cell_type": "code",
      "source": [
        "#fuerza bruta (recorre todas las posibilidades)\n",
        "\n",
        "def distanciaf(L):\n",
        "  mejor_distancia = 100000e10\n",
        "  \n",
        "  A,B = (),()\n",
        "  \n",
        "  for i in range(len(L)):\n",
        "    for j in range(i+1, (len(L))):\n",
        "      D = distancia(L[i],L[j])\n",
        "      if distancia(L[i],L[j]) < mejor_distancia:\n",
        "        A,B=L[i],L[j]\n",
        "        mejor_distancia = D\n",
        "  return[A,B]\n",
        "\n",
        "distanciaf(Lista)"
      ],
      "execution_count": 92,
      "outputs": [
        {
          "output_type": "execute_result",
          "data": {
            "text/plain": [
              "[(984, 808), (974, 814)]"
            ]
          },
          "metadata": {
            "tags": []
          },
          "execution_count": 92
        }
      ]
    },
    {
      "metadata": {
        "id": "hBSuq-a9_jwm",
        "colab_type": "code",
        "colab": {
          "base_uri": "https://localhost:8080/",
          "height": 70
        },
        "outputId": "77f0afc4-081c-464a-aed4-13a60c88835a"
      },
      "cell_type": "code",
      "source": [
        "def distancia_divide_y_venceras(L):\n",
        "  if len(L) < 10:\n",
        "    return distanciaf(L)\n",
        "  \n",
        "  #dividir vistas\n",
        "  #pivite = sum([L[i][0]for i in range(len(L))]) /len(L)\n",
        "  \n",
        "  \n",
        "  Lista_izq = sorted(L, key=lambda x: x[0])[:len(L)//2]\n",
        "  Lista_der = sorted(L, key=lambda x: x[0])[len(L)//2:]\n",
        "  \n",
        "  puntosi = distancia_divide_y_venceras(Lista_izq)\n",
        "  puntosd = distancia_divide_y_venceras(Lista_der)\n",
        "  \n",
        "  return distanciaf(puntosi + puntosd )\n",
        "  print(Lista_izq)\n",
        "  print(Lista_der)\n",
        "\n",
        "@calcular_tiempo\n",
        "def LANZA(L):\n",
        "  return distancia_divide_y_venceras(L)\n",
        "\n",
        "SOL = LANZA(Lista[:100])\n",
        "\n",
        "print(SOL)"
      ],
      "execution_count": 93,
      "outputs": [
        {
          "output_type": "stream",
          "text": [
            "\r\n",
            " Tiempo de ejecucion para algoritmo:0.0017428398132324218750000\n",
            "None\n"
          ],
          "name": "stdout"
        }
      ]
    },
    {
      "metadata": {
        "id": "W72Hkec_Jsay",
        "colab_type": "code",
        "colab": {
          "base_uri": "https://localhost:8080/",
          "height": 90
        },
        "outputId": "f16c871b-596d-42bd-9cff-c4c4380691a5"
      },
      "cell_type": "code",
      "source": [
        "#paseo por el rio\n",
        "\n",
        "TARIFAS = [\n",
        "[0,5,4,3,999,999,999],\n",
        "[999,0,999,2,3,999,11],\n",
        "[999,999, 0,1,999,4,10],\n",
        "[999,999,999, 0,5,6,9],\n",
        "[999,999, 999,999,0,999,4],\n",
        "[999,999, 999,999,999,0,3],\n",
        "[999,999,999,999,999,999,0]\n",
        "]\n",
        "\n",
        "def precios(TARIFAS):\n",
        "  N = len(TARIFAS[0])\n",
        "  \n",
        "  PRECIOS = [ [9999]*N for i in [9999]*N ]\n",
        "  RUTAS    = [ [\"\"]*N for i in [9999]*N ]\n",
        "  \n",
        "  \n",
        "\n",
        "  for i in range(N-1):\n",
        "    for j in range(i+1,N):\n",
        "      MIN = TARIFAS[i][j]\n",
        "      RUTAS[i][j] = i\n",
        "      \n",
        "      for k in range(i,j):\n",
        "        if PRECIOS[i][k]+ TARIFAS[k][j] < MIN:\n",
        "          MIN = min( MIN , PRECIOS[i][k]+ TARIFAS[k][j] )\n",
        "          RUTAS[i][j] = k \n",
        "        PRECIOS[i][j] = MIN\n",
        "        \n",
        "    return PRECIOS, RUTAS     \n",
        "  \n",
        "PRECIOS, RUTAS = precios(TARIFAS)\n",
        "  \n",
        "\n",
        "\n",
        "print(PRECIOS)\n",
        "\n",
        "print()\n",
        "\n",
        "print(RUTAS)"
      ],
      "execution_count": 94,
      "outputs": [
        {
          "output_type": "stream",
          "text": [
            "[[9999, 5, 4, 3, 8, 8, 11], [9999, 9999, 9999, 9999, 9999, 9999, 9999], [9999, 9999, 9999, 9999, 9999, 9999, 9999], [9999, 9999, 9999, 9999, 9999, 9999, 9999], [9999, 9999, 9999, 9999, 9999, 9999, 9999], [9999, 9999, 9999, 9999, 9999, 9999, 9999], [9999, 9999, 9999, 9999, 9999, 9999, 9999]]\n",
            "\n",
            "[['', 0, 0, 0, 1, 2, 5], ['', '', '', '', '', '', ''], ['', '', '', '', '', '', ''], ['', '', '', '', '', '', ''], ['', '', '', '', '', '', ''], ['', '', '', '', '', '', ''], ['', '', '', '', '', '', '']]\n"
          ],
          "name": "stdout"
        }
      ]
    },
    {
      "metadata": {
        "id": "Svt6JytiQs7b",
        "colab_type": "code",
        "colab": {
          "base_uri": "https://localhost:8080/",
          "height": 70
        },
        "outputId": "7dd2aadd-ca39-48a3-cfee-7cf9c61dc7ad"
      },
      "cell_type": "code",
      "source": [
        "def calcular_ruta(RUTAS, desde, hasta):\n",
        "  if desde == hasta:\n",
        "    #print(\"Ir a :\" + str(desde))\n",
        "    return desde \n",
        "  else:\n",
        "    return str(calcular_ruta(RUTAS, desde, RUTAS[desde][hasta])) +  ',' + str(RUTAS[desde][hasta]) \n",
        "\n",
        "print(\"\\nLa ruta es:\")  \n",
        "calcular_ruta(RUTAS, 0,6)"
      ],
      "execution_count": 98,
      "outputs": [
        {
          "output_type": "stream",
          "text": [
            "\n",
            "La ruta es:\n"
          ],
          "name": "stdout"
        },
        {
          "output_type": "execute_result",
          "data": {
            "text/plain": [
              "'0,0,2,5'"
            ]
          },
          "metadata": {
            "tags": []
          },
          "execution_count": 98
        }
      ]
    }
  ]
}
